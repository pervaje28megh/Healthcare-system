{
 "cells": [
  {
   "cell_type": "code",
   "execution_count": 42,
   "id": "d25152e9",
   "metadata": {},
   "outputs": [],
   "source": [
    "# Importing data preprocessing lib\n",
    "import pandas as pd"
   ]
  },
  {
   "cell_type": "code",
   "execution_count": 43,
   "id": "e7557ba1",
   "metadata": {},
   "outputs": [
    {
     "name": "stdout",
     "output_type": "stream",
     "text": [
      "Requirement already satisfied: mysql-connector-python in c:\\users\\megha\\anaconda3\\lib\\site-packages (8.0.31)\n",
      "Requirement already satisfied: protobuf<=3.20.1,>=3.11.0 in c:\\users\\megha\\anaconda3\\lib\\site-packages (from mysql-connector-python) (3.20.1)\n"
     ]
    }
   ],
   "source": [
    "!pip install mysql-connector-python"
   ]
  },
  {
   "cell_type": "code",
   "execution_count": 94,
   "id": "83e687f8",
   "metadata": {},
   "outputs": [
    {
     "name": "stdout",
     "output_type": "stream",
     "text": [
      "<mysql.connector.connection_cext.CMySQLConnection object at 0x000002AE722A78B0>\n"
     ]
    }
   ],
   "source": [
    "# Import mysql connector and stablish connection\n",
    "import mysql.connector\n",
    "\n",
    "mydb = mysql.connector.connect(\n",
    "  host=\"localhost\",\n",
    "  user=\"root\",\n",
    "  password=\"parents@0910\"\n",
    "    \n",
    ")\n",
    "\n",
    "print(mydb)"
   ]
  },
  {
   "cell_type": "code",
   "execution_count": 95,
   "id": "070400ee",
   "metadata": {},
   "outputs": [
    {
     "name": "stdout",
     "output_type": "stream",
     "text": [
      "('healthcare',)\n",
      "('healthcare0',)\n",
      "('healthcare1',)\n",
      "('healthcare2',)\n",
      "('healthcare7',)\n",
      "('information_schema',)\n",
      "('mysql',)\n",
      "('performance_schema',)\n",
      "('sakila',)\n",
      "('sys',)\n",
      "('world',)\n"
     ]
    }
   ],
   "source": [
    "# Print the databases (list of databses)\n",
    "mycursor = mydb.cursor()\n",
    "\n",
    "mycursor.execute(\"show databases\")\n",
    "myresult = mycursor.fetchall()\n",
    "\n",
    "for x in myresult:\n",
    "    print(x)\n"
   ]
  },
  {
   "cell_type": "code",
   "execution_count": 57,
   "id": "ed54ceb4",
   "metadata": {},
   "outputs": [],
   "source": [
    "# Create new database\n",
    "\n",
    "mycursor.execute(\"CREATE DATABASE healthcare7\")\n"
   ]
  },
  {
   "cell_type": "code",
   "execution_count": 58,
   "id": "d5b7a7e6",
   "metadata": {},
   "outputs": [],
   "source": [
    "# Use new database\n",
    "\n",
    "mydb = mysql.connector.connect(\n",
    "  host=\"localhost\",\n",
    "  user=\"root\",\n",
    "  password=\"parents@0910\",\n",
    "    database=\"healthcare7\"\n",
    ")\n",
    "\n",
    "mycursor = mydb.cursor()\n"
   ]
  },
  {
   "cell_type": "code",
   "execution_count": 59,
   "id": "e6e4afc2",
   "metadata": {},
   "outputs": [],
   "source": [
    "# Create new table groups\n",
    "\n",
    "mycursor.execute(\"\"\"CREATE TABLE groups_tble (grp_sk int NOT NULL UNIQUE AUTO_INCREMENT,grp_id VARCHAR(6) NOT NULL PRIMARY KEY,\n",
    "                 grp_name VARCHAR(90),premium_written int NOT NULL,city VARCHAR(20),\n",
    "                 zip_code int,country VARCHAR(5),grp_type VARCHAR(10))\"\"\")\n"
   ]
  },
  {
   "cell_type": "code",
   "execution_count": 60,
   "id": "fc2a68b4",
   "metadata": {},
   "outputs": [],
   "source": [
    "# Create new table subgroup\n",
    "mycursor.execute(\"\"\"CREATE TABLE subgroup (subgrp_sk int NOT NULL UNIQUE AUTO_INCREMENT,subgrp_id VARCHAR(4) NOT NULL PRIMARY KEY,\n",
    "                 subgrp_name VARCHAR(90),monthly_premium float(6,2))\"\"\")\n"
   ]
  },
  {
   "cell_type": "code",
   "execution_count": 61,
   "id": "2acce9df",
   "metadata": {},
   "outputs": [],
   "source": [
    "# Create new table group_subgroup\n",
    "mycursor.execute(\"\"\"CREATE TABLE group_subgroup (grpsub_sk int NOT NULL UNIQUE AUTO_INCREMENT,\n",
    "                    g_id VARCHAR(6) NOT NULL,\n",
    "                    s_id VARCHAR(4) NOT NULL,\n",
    "                    FOREIGN KEY(g_id) REFERENCES groups_tble(grp_id),\n",
    "                    FOREIGN KEY(s_id) REFERENCES subgroup(subgrp_id))\"\"\")\n"
   ]
  },
  {
   "cell_type": "code",
   "execution_count": 62,
   "id": "40a9b058",
   "metadata": {},
   "outputs": [],
   "source": [
    "# Create new table disease\n",
    "mycursor.execute(\"\"\"CREATE TABLE disease (disease_id int NOT NULL PRIMARY KEY ,disease_name VARCHAR(30) NOT NULL ,\n",
    "                 subgrp_id VARCHAR(4),FOREIGN KEY(subgrp_id) REFERENCES subgroup(subgrp_id))\"\"\")\n"
   ]
  },
  {
   "cell_type": "code",
   "execution_count": 63,
   "id": "2a05a821",
   "metadata": {},
   "outputs": [],
   "source": [
    "# Create new table subscriber\n",
    "mycursor.execute(\"\"\"CREATE TABLE subscriber (sub_id VARCHAR(10) NOT NULL PRIMARY KEY ,first_name VARCHAR(30) ,\n",
    "                 last_name VARCHAR(20),street VARCHAR(30),birth_date DATE,gender VARCHAR(6),phone VARCHAR(15),city VARCHAR(30),\n",
    "                 zip_code int,country VARCHAR(10),subgrp_id VARCHAR(4),elig_ind VARCHAR(2) NOT NULL,eff_date DATE NOT NULL,term_date DATE,FOREIGN KEY(subgrp_id) REFERENCES subgroup(subgrp_id))\"\"\")\n",
    "\n"
   ]
  },
  {
   "cell_type": "code",
   "execution_count": 64,
   "id": "270143a3",
   "metadata": {},
   "outputs": [],
   "source": [
    "# create new table hospital_details\n",
    "mycursor.execute(\"\"\"CREATE TABLE hospital_details (hospital_id VARCHAR(5) NOT NULL PRIMARY KEY ,hospital_name VARCHAR(255),\n",
    "                 city VARCHAR(20),state VARCHAR(20),country VARCHAR(6))\"\"\")\n"
   ]
  },
  {
   "cell_type": "code",
   "execution_count": 65,
   "id": "d4d39570",
   "metadata": {},
   "outputs": [],
   "source": [
    "# Create new table patient_details\n",
    "mycursor.execute(\"\"\"CREATE TABLE patient_details(patient_id int NOT NULL PRIMARY KEY,patient_name VARCHAR(20),patient_gender VARCHAR(6),patient_birth_date DATE,patient_phone VARCHAR(15),disease_name VARCHAR(30),city VARCHAR(30),hospital_id VARCHAR(5),FOREIGN KEY(hospital_id) REFERENCES hospital_details(hospital_id))\"\"\")\n"
   ]
  },
  {
   "cell_type": "code",
   "execution_count": 66,
   "id": "aa74d557",
   "metadata": {},
   "outputs": [],
   "source": [
    "# Create new table claims\n",
    "mycursor.execute(\"\"\"CREATE TABLE claims (claim_id int NOT NULL AUTO_INCREMENT PRIMARY KEY ,patient_id int NOT NULL,disease_name VARCHAR(20),\n",
    "                 sub_id VARCHAR(10),claim_or_rejected VARCHAR(5),claim_type VARCHAR(20),claim_amount float(8,2),claim_date DATE,FOREIGN KEY(sub_id) REFERENCES subscriber(sub_id),FOREIGN KEY(patient_id) REFERENCES patient_details(patient_id))\"\"\")\n"
   ]
  },
  {
   "cell_type": "code",
   "execution_count": 76,
   "id": "74fe77e4",
   "metadata": {},
   "outputs": [
    {
     "name": "stdout",
     "output_type": "stream",
     "text": [
      "('0', 1, 2, '3', '4', '5', '6')\n",
      "('India', 72000, 482018, 'GRP101', 'Life Insurance Corporation of India', 'Govt.', 'Mumbai')\n",
      "('India', 45000, 482049, 'GRP102', 'HDFC Standard Life Insurance Co. Ltd.', 'Private', 'Mumbai')\n",
      "('India', 64000, 482030, 'GRP103', 'Max Life Insurance Co. Ltd.', 'Private', 'Delhi')\n",
      "('India', 59000, 482028, 'GRP104', 'ICICI Prudential Life Insurance Co. Ltd.', 'Private', 'Mumbai')\n",
      "('India', 37000, 482014, 'GRP105', 'Kotak Mahindra Life Insurance Co. Ltd.', 'Private', 'Mumbai')\n",
      "('India', 89000, 482011, 'GRP106', 'Aditya Birla Sun Life Insurance Co. Ltd.', 'Private', 'Mumbai')\n",
      "('India', 70000, 482006, 'GRP107', 'TATA AIG Life Insurance Co. Ltd.', 'Private', 'Mumbai')\n",
      "('India', 52000, 482034, 'GRP108', 'SBI Life Insurance Co. Ltd.', 'Private', 'Mumbai')\n",
      "('India', 78000, 482032, 'GRP109', 'Exide Life Insurance Co. Ltd.', 'Private', 'Bangalore')\n",
      "('India', 48000, 482015, 'GRP110', 'Bajaj Allianz Life Insurance Co. Ltd.', 'Private', 'Pune')\n",
      "('India', 57000, 482011, 'GRP111', 'PNB MetLife India Insurance Co. Ltd.', 'Private', 'Mumbai')\n",
      "('India', 57000, 482022, 'GRP112', 'Reliance Nippon Life Insurance Company', 'Private', 'Mumbai')\n",
      "('India', 64000, 482009, 'GRP113', 'Aviva Life Insurance Company India Ltd.', 'Private', 'Gurugram')\n",
      "('India', 33000, 482043, 'GRP114', 'Sahara India Life Insurance Co. Ltd.', 'Private', 'Lucknow')\n",
      "('India', 79000, 482036, 'GRP115', 'Shriram Life Insurance Co. Ltd.', 'Private', 'Hyderabad')\n",
      "('India', 32000, 482002, 'GRP116', 'Bharti AXA Life Insurance Co. Ltd.', 'Private', 'Mumbai')\n",
      "('India', 59000, 482017, 'GRP117', 'Future Generali India Life Insurance Co. Ltd.', 'Private', 'Mumbai')\n",
      "('India', 97000, 482023, 'GRP118', 'IDBI Federal Life Insurance Co. Ltd.', 'Private', 'Mumbai')\n",
      "('India', 47000, 482046, 'GRP119', 'Canara HSBC Oriental Bank of Commerce Life Insurance Co. Ltd.', 'Private', 'Gurugram')\n",
      "('India', 50000, 482017, 'GRP120', 'Aegon Life Insurance Co. Ltd.', 'Private', 'Mumbai')\n",
      "('India', 78000, 482039, 'GRP121', 'Pramerica Life Insurance Co. Ltd.', 'Private', 'Mumbai')\n",
      "('India', 79000, 482027, 'GRP122', 'Star Union Dai-Ichi Life Insurance Co. Ltd.', 'Private', 'Mumbai')\n",
      "('India', 99000, 482040, 'GRP123', 'IndiaFirst Life Insurance Co. Ltd.', 'Private', 'Mumbai')\n",
      "('India', 81000, 482033, 'GRP124', 'Edelweiss Tokio Life Insurance Co. Ltd.', 'Private', 'Mumbai')\n",
      "('India', 60000, 482006, 'GRP125', 'Acko General Insurance', 'Private', 'Mumbai')\n",
      "('India', 42000, 482035, 'GRP126', 'Aditya Birla Health Insurance', 'Private', 'Mumbai')\n",
      "('India', 60000, 482020, 'GRP127', 'Agriculture Insurance Company of India', 'Govt.', 'New Delhi')\n",
      "('India', 50000, 482039, 'GRP128', 'Apollo Munich Health Insurance', 'Private', 'Gurgaon')\n",
      "('India', 88000, 482003, 'GRP129', 'Bajaj Allianz General Insurance', 'Private', 'Pune')\n",
      "('India', 42000, 482036, 'GRP130', 'Bharti AXA General Insurance', 'Private', 'Mumbai')\n",
      "('India', 99000, 482005, 'GRP131', 'Cholamandalam MS General Insurance', 'Private', 'Chennai')\n",
      "('India', 57000, 482048, 'GRP132', 'Cigna TTK', 'Private', 'Mumbai')\n",
      "('India', 93000, 482046, 'GRP133', 'DHFL General Insurance', 'Private', 'Mumbai')\n",
      "('India', 90000, 482019, 'GRP134', 'Digit Insurance', 'Private', 'Pune')\n",
      "('India', 39000, 482024, 'GRP135', 'Edelweiss General Insurance', 'Private', 'Mumbai')\n",
      "('India', 34000, 482005, 'GRP136', 'Export Credit Guarantee Corporation of India', 'Govt.', 'Mumbai')\n",
      "('India', 47000, 482015, 'GRP137', 'Future Generali India Insurance', 'Private', 'Mumbai')\n",
      "('India', 32000, 482029, 'GRP138', 'HDFC ERGO General Insurance Company', 'Private', 'Mumbai')\n",
      "('India', 71000, 482009, 'GRP139', 'ICICI Lombard', 'Private', 'Mumbai')\n",
      "('India', 54000, 482022, 'GRP140', 'IFFCO TOKIO General Insurance', 'Private', 'Gurugram')\n",
      "('India', 71000, 482049, 'GRP141', 'Kotak Mahindra General Insurance', 'Private', 'Mumbai')\n",
      "('India', 60000, 482012, 'GRP142', 'Liberty General Insurance', 'Private', 'Mumbai')\n",
      "('India', 90000, 482009, 'GRP143', 'Magma HDI General Insurance', 'Private', 'Mumbai')\n",
      "('India', 44000, 482046, 'GRP144', 'Max Bupa Health Insurance', 'Private', 'New Delhi')\n",
      "('India', 63000, 482043, 'GRP145', 'National Insurance Company', 'Govt.', 'Kolkata')\n",
      "('India', 46000, 482030, 'GRP146', 'New India Assurance', 'Govt.', 'Mumbai')\n",
      "('India', 99000, 482040, 'GRP147', 'Raheja QBE General Insurance', 'Private', 'Mumbai')\n",
      "('India', 67000, 482031, 'GRP148', 'Reliance General Insurance', 'Private', 'Mumbai')\n",
      "('India', 34000, 482049, 'GRP149', 'Reliance Health Insurance', 'Private', 'Mumbai')\n",
      "('India', 84000, 482038, 'GRP150', 'Religare Health Insurance Company Limited', 'Private', 'Gurgaon')\n",
      "('India', 31000, 482044, 'GRP151', 'Royal Sundaram General Insurance', 'Private', 'Chennai')\n",
      "('India', 87000, 482017, 'GRP152', 'SBI General Insurance', 'Private', 'Mumbai')\n",
      "('India', 86000, 482004, 'GRP153', 'Shriram General Insurance', 'Private', 'Jaipur')\n",
      "('India', 95000, 482003, 'GRP154', 'Star Health and Allied Insurance', 'Private', 'Chennai')\n",
      "('India', 41000, 482043, 'GRP155', 'Tata AIG General Insurance', 'Private', 'Mumbai')\n",
      "('India', 67000, 482048, 'GRP156', 'The Oriental Insurance Company', 'Govt.', 'New Delhi')\n",
      "('India', 92000, 482019, 'GRP157', 'United India Insurance Company', 'Govt.', 'Chennai')\n",
      "('India', 47000, 482042, 'GRP158', 'Universal Sompo General Insurance Company', 'Private', 'Mumbai')\n"
     ]
    }
   ],
   "source": [
    "#inserting data into table group \n",
    "with open('group_cleaned.csv','r') as file:\n",
    "    mycursor.execute('''use healthcare''')\n",
    "    data=file.readlines()\n",
    "    for row in data:\n",
    "            list=row.split(\",\")\n",
    "            top=tuple([list[0],int(list[1]),int(list[2]),list[3],list[4],list[5],list[6]])\n",
    "            print(top) \n",
    "            sql = \"INSERT INTO healthcare7.groups_tble(country,premium_written,zip_code,grp_id,grp_name,grp_type,city) VALUES(%s,%s,%s,%s,%s,%s,%s)\"\n",
    "            mycursor.execute(sql, top)\n",
    "            mydb.commit()"
   ]
  },
  {
   "cell_type": "code",
   "execution_count": 73,
   "id": "914297bd",
   "metadata": {},
   "outputs": [
    {
     "name": "stdout",
     "output_type": "stream",
     "text": [
      "('0', '1', 2.0)\n",
      "('S101', 'Deficiency Diseases', 3000.0)\n",
      "('S102', 'Accident', 1000.0)\n",
      "('S103', 'Physiology', 2000.0)\n",
      "('S104', 'Therapy', 1500.0)\n",
      "('S105', 'Allergies', 2300.0)\n",
      "('S106', 'Self inflicted', 1200.0)\n",
      "('S107', 'Cancer', 3200.0)\n",
      "('S108', 'Infectious disease', 1500.0)\n",
      "('S109', 'Hereditary', 2000.0)\n",
      "('S110', 'Viral', 1000.0)\n"
     ]
    }
   ],
   "source": [
    "#insert data into subgroup\n",
    "with open('subgroup_cleaned.csv','r') as file:\n",
    "    mycursor.execute('''use healthcare''')\n",
    "    data=file.readlines()\n",
    "    for row in data:\n",
    "        list=row.split(\",\")\n",
    "        top=tuple([list[0],list[1],float(list[2])])\n",
    "        print(top) \n",
    "        sql = \"INSERT INTO healthcare7.subgroup(subgrp_id,subgrp_name,monthly_premium) VALUES(%s,%s,%s)\"\n",
    "        mycursor.execute(sql, top)\n",
    "        mydb.commit()"
   ]
  },
  {
   "cell_type": "code",
   "execution_count": 77,
   "id": "21116390",
   "metadata": {},
   "outputs": [
    {
     "name": "stdout",
     "output_type": "stream",
     "text": [
      "('H1000', 'All India Institute of Medical Sciences', 'New Delhi', 'Na', 'India\\n')\n",
      "('H1001', 'Medanta The Medicity', 'Gurgaon', 'Haryana', 'India\\n')\n",
      "('H1002', 'The Christian Medical College', 'Vellore', 'Tamil Nadu', 'India\\n')\n",
      "('H1003', 'PGIMER - Postgraduate Institute of Medical Education and Research', 'Chandigarh', 'Haryana', 'India\\n')\n",
      "('H1004', 'Apollo Hospital - Chennai', 'Chennai', 'Tamil Nadu', 'India\\n')\n",
      "('H1005', 'P. D. Hinduja National Hospital & Medical Research Centre', 'Mumbai', 'Maharashtra', 'India\\n')\n",
      "('H1006', 'Breach Candy Hospital', 'Mumbai', 'Maharashtra', 'India\\n')\n",
      "('H1007', 'Fortis Flt. Lt. Rajan Dhall Hospital', 'New Delhi', 'Na', 'India\\n')\n",
      "('H1008', 'King Edward Memorial Hospital', 'Mumbai', 'Maharashtra', 'India\\n')\n",
      "('H1009', 'Indraprastha Apollo Hospital', 'Delhi', 'Na', 'India\\n')\n",
      "('H1010', 'Lilavati Hospital And Research Centre', 'Mumbai', 'Maharashtra', 'India\\n')\n",
      "('H1011', 'Sir Ganga Ram Hospital', 'Delhi', 'Na', 'India\\n')\n",
      "('H1012', 'Bombay Hospital & Medical Research Centre', 'Mumbai', 'Maharashtra', 'India\\n')\n",
      "('H1013', 'Apollo Health City - Jubilee Hills', 'Hyderabad', 'Telangana', 'India\\n')\n",
      "('H1014', 'Fortis Hiranandani Hospital', 'Mumbai', 'Maharashtra', 'India\\n')\n",
      "('H1015', 'Fortis Hospital Mulund', 'Mumbai', 'Maharashtra', 'India\\n')\n",
      "('H1016', 'Jaslok Hospital and Research Centre', 'Mumbai', 'Maharashtra', 'India\\n')\n",
      "('H1017', 'Manipal Hospitals', 'Bengaluru', 'Karnataka', 'India\\n')\n",
      "('H1018', 'Yashoda Hospital Secunderabad', 'Hyderabad', 'Telangana', 'India\\n')\n",
      "('H1019', 'Apollo Hospitals - Bannerghatta Road', 'Bengaluru', 'Karnataka', 'India\\n')\n"
     ]
    }
   ],
   "source": [
    "#inserting data into hospital_details\n",
    "with open('hospital.csv','r') as file:\n",
    "    mycursor.execute('''use healthcare''')\n",
    "    data=file.readlines()\n",
    "    for row in data:\n",
    "        list=row.split(\",\")\n",
    "        top=tuple(list)\n",
    "        print(top)\n",
    "        sql = \"INSERT INTO healthcare7.hospital_details(hospital_id,hospital_name,city,state,country) VALUES(%s,%s,%s,%s,%s)\"\n",
    "        mycursor.execute(sql,top)\n",
    "        mydb.commit()\n"
   ]
  },
  {
   "cell_type": "code",
   "execution_count": 74,
   "id": "13e2fdad",
   "metadata": {},
   "outputs": [
    {
     "name": "stdout",
     "output_type": "stream",
     "text": [
      "('S101', 110001, 'Beriberi\\n')\n",
      "('S101', 110002, 'Scurvy\\n')\n",
      "('S101', 110003, 'Goitre\\n')\n",
      "('S101', 110004, 'Osteoporosis\\n')\n",
      "('S101', 110005, 'Rickets\\n')\n",
      "('S101', 110006, 'Anaemia\\n')\n",
      "('S102', 110007, 'Fractures\\n')\n",
      "('S102', 110008, 'Heart Attack\\n')\n",
      "('S102', 110009, 'Burns\\n')\n",
      "('S102', 110010, 'Choking\\n')\n",
      "('S102', 110011, 'Stroke\\n')\n",
      "('S102', 110012, 'Food Poisoning\\n')\n",
      "('S103', 110013, 'Asthma\\n')\n",
      "('S103', 110014, 'Glaucoma\\n')\n",
      "('S103', 110015, 'Diabetes\\n')\n",
      "('S103', 110016, 'Amnesia\\n')\n",
      "('S103', 110017, 'Parasomnias\\n')\n",
      "('S103', 110018, 'Neurocognitive disorders\\n')\n",
      "('S104', 110019, 'Vertigo\\n')\n",
      "('S104', 110020, 'Lymphedema\\n')\n",
      "('S104', 110021, 'Concussion\\n')\n",
      "('S104', 110022, 'Arthritis\\n')\n",
      "('S104', 110023, 'Whiplash\\n')\n",
      "('S104', 110024, \"Parkinson's disease\\n\")\n",
      "('S105', 110025, 'Insecy allergy\\n')\n",
      "('S105', 110026, 'Mold allergy\\n')\n",
      "('S105', 110027, 'Pet allergy\\n')\n",
      "('S105', 110028, 'Pollen allergy\\n')\n",
      "('S105', 110029, 'Drug allergy\\n')\n",
      "('S105', 110030, 'Food allergy\\n')\n",
      "('S106', 110031, 'Suicide\\n')\n",
      "('S106', 110032, 'Smoking\\n')\n",
      "('S106', 110033, 'Sunbathing\\n')\n",
      "('S106', 110034, 'Alcohol consumption\\n')\n",
      "('S106', 110035, 'Head banging\\n')\n",
      "('S106', 110036, 'Drug consumption\\n')\n",
      "('S107', 110037, 'Kidney cancer\\n')\n",
      "('S107', 110038, 'Colorectal cancer\\n')\n",
      "('S107', 110039, 'Bladder cancer\\n')\n",
      "('S107', 110040, 'Melanoma\\n')\n",
      "('S107', 110041, 'Lung cancer\\n')\n",
      "('S107', 110042, 'Breast cancer\\n')\n",
      "('S108', 110043, 'Measles\\n')\n",
      "('S108', 110044, 'Dengue\\n')\n",
      "('S108', 110045, 'Smallpox\\n')\n",
      "('S108', 110046, 'Anthrax\\n')\n",
      "('S108', 110047, 'Cholera\\n')\n",
      "('S108', 110048, 'Malaria\\n')\n",
      "('S109', 110049, 'Cystic fibrosis\\n')\n",
      "('S109', 110050, 'Fanconi anaemia\\n')\n",
      "('S109', 110051, 'Phenylketonuria\\n')\n",
      "('S109', 110052, 'Galactosemia\\n')\n",
      "('S109', 110053, 'Rett Syndrome\\n')\n",
      "('S109', 110054, 'Hemophilia\\n')\n",
      "('S110', 110055, 'Hepatitis\\n')\n",
      "('S110', 110056, 'Mumps\\n')\n",
      "('S110', 110057, 'Pneumonia\\n')\n",
      "('S110', 110058, 'Shingles\\n')\n",
      "('S110', 110059, 'Flu\\n')\n",
      "('S110', 110060, 'Chickenpox\\n')\n"
     ]
    }
   ],
   "source": [
    "# insert data into table disease\n",
    "with open('disease.csv','r') as file:\n",
    "    mycursor.execute('''use healthcare''')\n",
    "    data=file.readlines()\n",
    "    for row in data:\n",
    "            list=row.split(\",\")\n",
    "            top=tuple([list[0],int(list[1]),list[2]])\n",
    "            print(top) \n",
    "            sql = \"INSERT INTO healthcare7.disease(subgrp_id,disease_id,disease_name) VALUES(%s,%s,%s)\"\n",
    "            mycursor.execute(sql, top)\n",
    "            mydb.commit()"
   ]
  },
  {
   "cell_type": "code",
   "execution_count": 22,
   "id": "2712c2af",
   "metadata": {},
   "outputs": [],
   "source": [
    "mydb.close()"
   ]
  },
  {
   "cell_type": "code",
   "execution_count": 80,
   "id": "635fde2f",
   "metadata": {},
   "outputs": [],
   "source": [
    "df=pd.read_csv('query4.csv')\n"
   ]
  },
  {
   "cell_type": "code",
   "execution_count": 81,
   "id": "50d89556",
   "metadata": {},
   "outputs": [],
   "source": [
    "import pandas as pd\n",
    "import seaborn as sns\n",
    "import matplotlib.pyplot as plt\n"
   ]
  },
  {
   "cell_type": "code",
   "execution_count": 82,
   "id": "08bc9ca1",
   "metadata": {},
   "outputs": [
    {
     "data": {
      "image/png": "[encoded data removed]",
      "text/plain": [
       "<Figure size 432x288 with 1 Axes>"
      ]
     },
     "metadata": {
      "needs_background": "light"
     },
     "output_type": "display_data"
    }
   ],
   "source": [
    "df.plot(x='hospital_name',y='total_patient',kind='bar',legend=None)\n",
    "plt.title(\"Hospital\")\n",
    "plt.ylabel('No. of Patient')\n",
    "plt.xlabel(\"Hospital Name\")\n",
    "plt.ylim(ymin=0,ymax=12)\n",
    "plt.savefig('Hospital with most patient.png',bbox_inches='tight')"
   ]
  },
  {
   "cell_type": "code",
   "execution_count": 83,
   "id": "5d0cc8a6",
   "metadata": {},
   "outputs": [],
   "source": [
    "## Find out which subgroups subscribe most number of times\n",
    "\n",
    "df1=pd.read_csv('query5.csv')\n"
   ]
  },
  {
   "cell_type": "code",
   "execution_count": 84,
   "id": "147983b6",
   "metadata": {},
   "outputs": [
    {
     "data": {
      "text/html": [
       "<div>\n",
       "<style scoped>\n",
       "    .dataframe tbody tr th:only-of-type {\n",
       "        vertical-align: middle;\n",
       "    }\n",
       "\n",
       "    .dataframe tbody tr th {\n",
       "        vertical-align: top;\n",
       "    }\n",
       "\n",
       "    .dataframe thead th {\n",
       "        text-align: right;\n",
       "    }\n",
       "</style>\n",
       "<table border=\"1\" class=\"dataframe\">\n",
       "  <thead>\n",
       "    <tr style=\"text-align: right;\">\n",
       "      <th></th>\n",
       "      <th>Unnamed: 0</th>\n",
       "      <th>subgrp_name</th>\n",
       "      <th>cunt</th>\n",
       "    </tr>\n",
       "  </thead>\n",
       "  <tbody>\n",
       "    <tr>\n",
       "      <th>0</th>\n",
       "      <td>0</td>\n",
       "      <td>Therapy</td>\n",
       "      <td>14</td>\n",
       "    </tr>\n",
       "    <tr>\n",
       "      <th>1</th>\n",
       "      <td>1</td>\n",
       "      <td>Deficiency Diseases</td>\n",
       "      <td>11</td>\n",
       "    </tr>\n",
       "    <tr>\n",
       "      <th>2</th>\n",
       "      <td>2</td>\n",
       "      <td>Viral</td>\n",
       "      <td>11</td>\n",
       "    </tr>\n",
       "    <tr>\n",
       "      <th>3</th>\n",
       "      <td>3</td>\n",
       "      <td>Hereditary</td>\n",
       "      <td>11</td>\n",
       "    </tr>\n",
       "    <tr>\n",
       "      <th>4</th>\n",
       "      <td>4</td>\n",
       "      <td>Physiology</td>\n",
       "      <td>10</td>\n",
       "    </tr>\n",
       "    <tr>\n",
       "      <th>5</th>\n",
       "      <td>5</td>\n",
       "      <td>Allergies</td>\n",
       "      <td>10</td>\n",
       "    </tr>\n",
       "    <tr>\n",
       "      <th>6</th>\n",
       "      <td>6</td>\n",
       "      <td>Accident</td>\n",
       "      <td>10</td>\n",
       "    </tr>\n",
       "    <tr>\n",
       "      <th>7</th>\n",
       "      <td>7</td>\n",
       "      <td>Cancer</td>\n",
       "      <td>9</td>\n",
       "    </tr>\n",
       "    <tr>\n",
       "      <th>8</th>\n",
       "      <td>8</td>\n",
       "      <td>Self inflicted</td>\n",
       "      <td>7</td>\n",
       "    </tr>\n",
       "    <tr>\n",
       "      <th>9</th>\n",
       "      <td>9</td>\n",
       "      <td>Infectious disease</td>\n",
       "      <td>7</td>\n",
       "    </tr>\n",
       "  </tbody>\n",
       "</table>\n",
       "</div>"
      ],
      "text/plain": [
       "   Unnamed: 0          subgrp_name  cunt\n",
       "0           0              Therapy    14\n",
       "1           1  Deficiency Diseases    11\n",
       "2           2                Viral    11\n",
       "3           3           Hereditary    11\n",
       "4           4           Physiology    10\n",
       "5           5            Allergies    10\n",
       "6           6             Accident    10\n",
       "7           7               Cancer     9\n",
       "8           8       Self inflicted     7\n",
       "9           9   Infectious disease     7"
      ]
     },
     "execution_count": 84,
     "metadata": {},
     "output_type": "execute_result"
    }
   ],
   "source": [
    "df1"
   ]
  },
  {
   "cell_type": "code",
   "execution_count": 85,
   "id": "98cb5bbd",
   "metadata": {},
   "outputs": [
    {
     "data": {
      "image/png": "[encoded data removed]",
      "text/plain": [
       "<Figure size 432x288 with 1 Axes>"
      ]
     },
     "metadata": {
      "needs_background": "light"
     },
     "output_type": "display_data"
    }
   ],
   "source": [
    "df1.plot(x='subgrp_name',y='cunt',kind='bar',legend=None)\n",
    "plt.title(\"Subgroups which subscribe most number of times\")\n",
    "plt.ylabel('Count')\n",
    "plt.xlabel(\"Subgroup Name\")\n",
    "plt.ylim(ymin=0,ymax=16)\n",
    "plt.savefig('Subgroups which subscribe most number of times',bbox_inches='tight')\n"
   ]
  },
  {
   "cell_type": "code",
   "execution_count": 86,
   "id": "94146a6a",
   "metadata": {},
   "outputs": [],
   "source": [
    "# Average monthly premium subscriber pay to insurance company subgroup.\n",
    "\n",
    "df2=pd.read_csv('query10.csv')\n"
   ]
  },
  {
   "cell_type": "code",
   "execution_count": 87,
   "id": "28fe4d08",
   "metadata": {},
   "outputs": [
    {
     "data": {
      "image/png": "[encoded data removed]",
      "text/plain": [
       "<Figure size 432x288 with 1 Axes>"
      ]
     },
     "metadata": {
      "needs_background": "light"
     },
     "output_type": "display_data"
    }
   ],
   "source": [
    "df2.plot(x='subgrp_id',y='avg(monthly_premium)',kind='bar',legend=None)\n",
    "plt.title(\"Average monthly premium paid by subgroups\")\n",
    "plt.ylabel('Average Monthly Premium')\n",
    "plt.xlabel(\"Subgroup ID\")\n",
    "plt.ylim(ymin=0,ymax=4000)\n",
    "plt.savefig('Average Monthly Premium Paid by Subgroups',bbox_inches='tight')\n"
   ]
  },
  {
   "cell_type": "code",
   "execution_count": 88,
   "id": "1782ad50",
   "metadata": {},
   "outputs": [],
   "source": [
    "# Find out Which group is most profitable\n",
    "\n",
    "df3=pd.read_csv('query11.csv')\n",
    "\n"
   ]
  },
  {
   "cell_type": "code",
   "execution_count": 89,
   "id": "c36c9959",
   "metadata": {},
   "outputs": [
    {
     "data": {
      "image/png": "[encoded data removed]",
      "text/plain": [
       "<Figure size 432x288 with 1 Axes>"
      ]
     },
     "metadata": {
      "needs_background": "light"
     },
     "output_type": "display_data"
    }
   ],
   "source": [
    "df3.head(n=20).plot(x='grp_id',y='premium_written',kind='bar',legend=None)\n",
    "plt.title(\"Most profitable group (Top 20)\")\n",
    "plt.xlabel(\"Group ID\")\n",
    "plt.ylabel(\"Premium\")\n",
    "plt.ylim(ymin=0,ymax=120000)\n",
    "plt.savefig('Most Profitable Groups',bbox_inches='tight')\n",
    "\n"
   ]
  },
  {
   "cell_type": "code",
   "execution_count": 90,
   "id": "b68e7ee0",
   "metadata": {},
   "outputs": [
    {
     "name": "stdout",
     "output_type": "stream",
     "text": [
      "+---------+\n",
      "|namespace|\n",
      "+---------+\n",
      "|  default|\n",
      "+---------+\n",
      "\n"
     ]
    }
   ],
   "source": [
    "# Show all the Databases of Hive\n",
    "df = spark.sql(\"show databases\").show()\n",
    "\n"
   ]
  },
  {
   "cell_type": "code",
   "execution_count": 37,
   "id": "f28f4c6b",
   "metadata": {},
   "outputs": [
    {
     "name": "stdout",
     "output_type": "stream",
     "text": [
      "Collecting pyspark\n",
      "  Downloading pyspark-3.3.1.tar.gz (281.4 MB)\n",
      "Collecting py4j==0.10.9.5\n",
      "  Downloading py4j-0.10.9.5-py2.py3-none-any.whl (199 kB)\n",
      "Building wheels for collected packages: pyspark\n",
      "  Building wheel for pyspark (setup.py): started\n",
      "  Building wheel for pyspark (setup.py): still running...\n",
      "  Building wheel for pyspark (setup.py): finished with status 'done'\n",
      "  Created wheel for pyspark: filename=pyspark-3.3.1-py2.py3-none-any.whl size=281845512 sha256=0f92989dc63344344a69809881d40f4124ec8234e005b137f19bc5684b488bf7\n",
      "  Stored in directory: c:\\users\\megha\\appdata\\local\\pip\\cache\\wheels\\51\\c8\\18\\298a4ced8ebb3ab8a7d26a7198c0cc7035abb906bde94a4c4b\n",
      "Successfully built pyspark\n",
      "Installing collected packages: py4j, pyspark\n",
      "Successfully installed py4j-0.10.9.5 pyspark-3.3.1\n"
     ]
    }
   ],
   "source": [
    "!pip install pyspark"
   ]
  },
  {
   "cell_type": "code",
   "execution_count": 39,
   "id": "f3794e86",
   "metadata": {},
   "outputs": [],
   "source": [
    "from pyspark.sql import SparkSession\n",
    "\n",
    "spark = SparkSession \\\n",
    "    .builder \\\n",
    "    .appName(\"Python Spark\") \\\n",
    "    .config(\"spark.some.config.option\", \"some-value\") \\\n",
    "    .getOrCreate()"
   ]
  },
  {
   "cell_type": "code",
   "execution_count": 96,
   "id": "62fc5292",
   "metadata": {},
   "outputs": [],
   "source": [
    "from pyspark.sql import Row\n",
    "appName= \"Python spark\"\n",
    "master= \"local\""
   ]
  }
 ],
 "metadata": {
  "kernelspec": {
   "display_name": "Python 3 (ipykernel)",
   "language": "python",
   "name": "python3"
  },
  "language_info": {
   "codemirror_mode": {
    "name": "ipython",
    "version": 3
   },
   "file_extension": ".py",
   "mimetype": "text/x-python",
   "name": "python",
   "nbconvert_exporter": "python",
   "pygments_lexer": "ipython3",
   "version": "3.9.7"
  }
 },
 "nbformat": 4,
 "nbformat_minor": 5
}
